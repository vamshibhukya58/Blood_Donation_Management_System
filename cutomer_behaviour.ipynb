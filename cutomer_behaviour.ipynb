{
  "nbformat": 4,
  "nbformat_minor": 0,
  "metadata": {
    "colab": {
      "provenance": [],
      "authorship_tag": "ABX9TyOIUoGT+fQ90afbZpELa7PE",
      "include_colab_link": true
    },
    "kernelspec": {
      "name": "python3",
      "display_name": "Python 3"
    },
    "language_info": {
      "name": "python"
    }
  },
  "cells": [
    {
      "cell_type": "markdown",
      "metadata": {
        "id": "view-in-github",
        "colab_type": "text"
      },
      "source": [
        "<a href=\"https://colab.research.google.com/github/vamshibhukya58/Blood_Donation_Management_System/blob/main/cutomer_behaviour.ipynb\" target=\"_parent\"><img src=\"https://colab.research.google.com/assets/colab-badge.svg\" alt=\"Open In Colab\"/></a>"
      ]
    },
    {
      "cell_type": "code",
      "source": [
        "import pandas as pd\n",
        "from sklearn.model_selection import train_test_split\n",
        "from sklearn.ensemble import RandomForestClassifier\n",
        "from sklearn.metrics import accuracy_score, confusion_matrix, classification_report\n",
        "import joblib\n",
        "\n",
        "# Load the dataset\n",
        "df = pd.read_csv(\"/content/customer_purchase_data.csv\", encoding='ISO-8859-1')\n",
        "\n",
        "# Display the first few rows of the dataset\n",
        "print(df.head())\n",
        "\n",
        "# Print all column names\n",
        "print(df.columns)\n",
        "\n",
        "# Check for missing values\n",
        "print(df.isnull().sum())\n",
        "\n",
        "# Fill or drop missing values\n",
        "df = df.dropna()  # or df.fillna(method='ffill')\n",
        "\n",
        "# Remove duplicates\n",
        "df = df.drop_duplicates()\n",
        "\n",
        "# Convert categorical variables to numerical\n",
        "df['Gender'] = df['Gender'].map({'Male': 0, 'Female': 1})\n",
        "df['ProductCategory'] = df['ProductCategory'].map({'Electronics': 0, 'Clothing': 1, 'Home Goods': 2, 'Beauty': 3, 'Sports': 4})\n",
        "df['LoyaltyProgram'] = df['LoyaltyProgram'].map({'No': 0, 'Yes': 1})\n",
        "\n",
        "# Define features and target variable\n",
        "X = df.drop(['PurchaseStatus'], axis=1)\n",
        "y = df['PurchaseStatus']\n",
        "\n",
        "# Check data types\n",
        "print(X.dtypes)\n",
        "\n",
        "# Check for missing values\n",
        "print(X.isnull().sum())\n",
        "\n",
        "# Print column names\n",
        "print(X.columns)\n",
        "\n",
        "# Ensure there are no NaN values in the features\n",
        "X = X.fillna(0)  # or use another strategy like mean/median imputation\n",
        "\n",
        "# Split the data\n",
        "X_train, X_test, y_train, y_test = train_test_split(X, y, test_size=0.2, random_state=42)\n",
        "\n",
        "# Train the model\n",
        "model = RandomForestClassifier(n_estimators=100, random_state=42)\n",
        "model.fit(X_train, y_train)\n",
        "\n",
        "# Make predictions\n",
        "y_pred = model.predict(X_test)\n",
        "\n",
        "# Calculate evaluation metrics\n",
        "accuracy = accuracy_score(y_test, y_pred)\n",
        "conf_matrix = confusion_matrix(y_test, y_pred)\n",
        "class_report = classification_report(y_test, y_pred)\n",
        "\n",
        "print(f'Accuracy: {accuracy}')\n",
        "print(f'Confusion Matrix:\\n{conf_matrix}')\n",
        "print(f'Classification Report:\\n{class_report}')\n",
        "\n",
        "# Save the model\n",
        "joblib.dump(model, 'customer_purchase_model.pkl')\n"
      ],
      "metadata": {
        "colab": {
          "base_uri": "https://localhost:8080/"
        },
        "id": "2-cBV16z06vN",
        "outputId": "ce8ea48b-0a1e-4105-b7da-bf075e8c91f2"
      },
      "execution_count": null,
      "outputs": [
        {
          "output_type": "stream",
          "name": "stdout",
          "text": [
            "   Age  Gender   AnnualIncome  NumberOfPurchases  ProductCategory  \\\n",
            "0   40       1   66120.267939                  8                0   \n",
            "1   20       1   23579.773583                  4                2   \n",
            "2   27       1  127821.306432                 11                2   \n",
            "3   24       1  137798.623120                 19                3   \n",
            "4   31       1   99300.964220                 19                1   \n",
            "\n",
            "   TimeSpentOnWebsite  LoyaltyProgram  DiscountsAvailed  PurchaseStatus  \n",
            "0           30.568601               0                 5               1  \n",
            "1           38.240097               0                 5               0  \n",
            "2           31.633212               1                 0               1  \n",
            "3           46.167059               0                 4               1  \n",
            "4           19.823592               0                 0               1  \n",
            "Index(['Age', 'Gender', 'AnnualIncome', 'NumberOfPurchases', 'ProductCategory',\n",
            "       'TimeSpentOnWebsite', 'LoyaltyProgram', 'DiscountsAvailed',\n",
            "       'PurchaseStatus'],\n",
            "      dtype='object')\n",
            "Age                   0\n",
            "Gender                0\n",
            "AnnualIncome          0\n",
            "NumberOfPurchases     0\n",
            "ProductCategory       0\n",
            "TimeSpentOnWebsite    0\n",
            "LoyaltyProgram        0\n",
            "DiscountsAvailed      0\n",
            "PurchaseStatus        0\n",
            "dtype: int64\n",
            "Age                     int64\n",
            "Gender                float64\n",
            "AnnualIncome          float64\n",
            "NumberOfPurchases       int64\n",
            "ProductCategory       float64\n",
            "TimeSpentOnWebsite    float64\n",
            "LoyaltyProgram        float64\n",
            "DiscountsAvailed        int64\n",
            "dtype: object\n",
            "Age                      0\n",
            "Gender                1388\n",
            "AnnualIncome             0\n",
            "NumberOfPurchases        0\n",
            "ProductCategory       1388\n",
            "TimeSpentOnWebsite       0\n",
            "LoyaltyProgram        1388\n",
            "DiscountsAvailed         0\n",
            "dtype: int64\n",
            "Index(['Age', 'Gender', 'AnnualIncome', 'NumberOfPurchases', 'ProductCategory',\n",
            "       'TimeSpentOnWebsite', 'LoyaltyProgram', 'DiscountsAvailed'],\n",
            "      dtype='object')\n",
            "Accuracy: 0.8165467625899281\n",
            "Confusion Matrix:\n",
            "[[127  22]\n",
            " [ 29 100]]\n",
            "Classification Report:\n",
            "              precision    recall  f1-score   support\n",
            "\n",
            "           0       0.81      0.85      0.83       149\n",
            "           1       0.82      0.78      0.80       129\n",
            "\n",
            "    accuracy                           0.82       278\n",
            "   macro avg       0.82      0.81      0.81       278\n",
            "weighted avg       0.82      0.82      0.82       278\n",
            "\n"
          ]
        },
        {
          "output_type": "execute_result",
          "data": {
            "text/plain": [
              "['customer_purchase_model.pkl']"
            ]
          },
          "metadata": {},
          "execution_count": 17
        }
      ]
    },
    {
      "cell_type": "code",
      "source": [],
      "metadata": {
        "id": "WS_4YpQV96k4"
      },
      "execution_count": null,
      "outputs": []
    }
  ]
}