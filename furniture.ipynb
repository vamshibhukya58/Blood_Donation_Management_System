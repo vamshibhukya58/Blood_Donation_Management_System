{
  "nbformat": 4,
  "nbformat_minor": 0,
  "metadata": {
    "colab": {
      "provenance": [],
      "authorship_tag": "ABX9TyOnx615yPQvdnbb/e3VYha1",
      "include_colab_link": true
    },
    "kernelspec": {
      "name": "python3",
      "display_name": "Python 3"
    },
    "language_info": {
      "name": "python"
    }
  },
  "cells": [
    {
      "cell_type": "markdown",
      "metadata": {
        "id": "view-in-github",
        "colab_type": "text"
      },
      "source": [
        "<a href=\"https://colab.research.google.com/github/vamshibhukya58/Blood_Donation_Management_System/blob/main/furniture.ipynb\" target=\"_parent\"><img src=\"https://colab.research.google.com/assets/colab-badge.svg\" alt=\"Open In Colab\"/></a>"
      ]
    },
    {
      "cell_type": "code",
      "execution_count": null,
      "metadata": {
        "id": "675qdYouLSlj"
      },
      "outputs": [],
      "source": [
        "import pandas as pd\n",
        "\n",
        "# Load the dataset\n",
        "df = pd.read_csv(\"/content/Super_Store_data.csv\", encoding='ISO-8859-1')\n",
        "\n",
        "# Display the first few rows of the dataset\n",
        "print(df.head())\n",
        "\n"
      ]
    },
    {
      "cell_type": "code",
      "source": [
        "# Check for missing values\n",
        "print(df.isnull().sum())\n",
        "\n",
        "# Fill or drop missing values\n",
        "df = df.dropna()  # or df.fillna(method='ffill')\n",
        "\n",
        "# Remove duplicates\n",
        "df = df.drop_duplicates()\n",
        "\n",
        "# Convert order date to datetime\n",
        "df['Order Date'] = pd.to_datetime(df['Order Date'])\n",
        "\n",
        "# Extract month and year from order date\n",
        "df['Month'] = df['Order Date'].dt.month\n",
        "df['Year'] = df['Order Date'].dt.year\n",
        "\n",
        "# Drop non-numerical columns that are not needed\n",
        "df = df.drop(['Order Date', 'Customer ID', 'Customer Name', 'Order ID', 'Product ID', 'Product Name', 'Ship Date'], axis=1)\n"
      ],
      "metadata": {
        "id": "xV8DWkO1LYe3"
      },
      "execution_count": null,
      "outputs": []
    },
    {
      "cell_type": "code",
      "source": [
        "# One-hot encoding for categorical variables\n",
        "df = pd.get_dummies(df, columns=['Ship Mode', 'Segment', 'Country', 'City', 'State', 'Region', 'Category', 'Sub-Category'])\n"
      ],
      "metadata": {
        "id": "63A8pTlDfm7E"
      },
      "execution_count": null,
      "outputs": []
    },
    {
      "cell_type": "code",
      "source": [
        "import matplotlib.pyplot as plt\n",
        "import seaborn as sns\n",
        "\n",
        "# Plot sales over time\n",
        "plt.figure(figsize=(10, 6))\n",
        "sns.lineplot(data=df, x='Year', y='Sales')\n",
        "plt.title('Sales Over Time')\n",
        "plt.show()\n",
        "\n",
        "# Correlation matrix\n",
        "corr_matrix = df.corr()\n",
        "sns.heatmap(corr_matrix, annot=True)\n",
        "plt.show()\n"
      ],
      "metadata": {
        "id": "FoXoRpPafxvs"
      },
      "execution_count": null,
      "outputs": []
    },
    {
      "cell_type": "code",
      "source": [
        "from sklearn.model_selection import train_test_split\n",
        "from sklearn.ensemble import RandomForestRegressor\n",
        "from sklearn.metrics import mean_absolute_error, mean_squared_error, r2_score\n",
        "\n",
        "# Define features and target variable\n",
        "X = df.drop(['Sales'], axis=1)\n",
        "y = df['Sales']\n",
        "\n",
        "# Split the data\n",
        "X_train, X_test, y_train, y_test = train_test_split(X, y, test_size=0.2, random_state=42)\n",
        "\n",
        "# Train the model\n",
        "model = RandomForestRegressor(n_estimators=100, random_state=42)\n",
        "model.fit(X_train, y_train)\n"
      ],
      "metadata": {
        "id": "_8wqZT7Bf1dO"
      },
      "execution_count": null,
      "outputs": []
    },
    {
      "cell_type": "code",
      "source": [
        "# Make predictions\n",
        "y_pred = model.predict(X_test)\n",
        "\n",
        "# Calculate evaluation metrics\n",
        "mae = mean_absolute_error(y_test, y_pred)\n",
        "mse = mean_squared_error(y_test, y_pred)\n",
        "r2 = r2_score(y_test, y_pred)\n",
        "\n",
        "print(f'MAE: {mae}')\n",
        "print(f'MSE: {mse}')\n",
        "print(f'R2 Score: {r2}')\n"
      ],
      "metadata": {
        "collapsed": true,
        "id": "MxHHtkuNgD9o"
      },
      "execution_count": null,
      "outputs": []
    },
    {
      "cell_type": "code",
      "source": [],
      "metadata": {
        "id": "jOWXNjK4lmZc"
      },
      "execution_count": null,
      "outputs": []
    }
  ]
}